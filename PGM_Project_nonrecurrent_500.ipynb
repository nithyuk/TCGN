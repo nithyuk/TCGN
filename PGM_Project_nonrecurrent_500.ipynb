{
  "nbformat": 4,
  "nbformat_minor": 0,
  "metadata": {
    "colab": {
      "provenance": [],
      "gpuType": "T4"
    },
    "kernelspec": {
      "name": "python3",
      "display_name": "Python 3"
    },
    "language_info": {
      "name": "python"
    },
    "accelerator": "GPU"
  },
  "cells": [
    {
      "cell_type": "markdown",
      "source": [
        "This contains the overall code for training a TGCN/GATConv Ternary Stock Movement Prediction model. It uses a non-recurrent approach and contains code meant for ensembling"
      ],
      "metadata": {
        "id": "mKWp5imUXGVb"
      }
    },
    {
      "cell_type": "markdown",
      "source": [
        "# Imports"
      ],
      "metadata": {
        "id": "2IOyCfLTSg0E"
      }
    },
    {
      "cell_type": "code",
      "source": [
        "!pip install torch-scatter -f https://pytorch-geometric.com/whl/torch-2.4.0+cu121.html\n",
        "!pip install torch-sparse -f https://pytorch-geometric.com/whl/torch-2.4.0+cu121.html\n",
        "!pip install torch-cluster -f https://pytorch-geometric.com/whl/torch-2.4.0+cu121.html\n",
        "!pip install torch-spline-conv -f https://pytorch-geometric.com/whl/torch-2.4.0+cu121.html\n",
        "!pip install torch-geometric\n",
        "!pip install torch-geometric-temporal\n",
        "!pip install yfinance\n",
        "!pip install requests_html\n",
        "!pip install yahoo_fin"
      ],
      "metadata": {
        "colab": {
          "base_uri": "https://localhost:8080/"
        },
        "id": "_xBT6UHkQn-3",
        "outputId": "f10431b0-fa6b-482b-cb23-7c0ce4081b6c"
      },
      "execution_count": null,
      "outputs": [
        {
          "output_type": "stream",
          "name": "stdout",
          "text": [
            "Looking in links: https://pytorch-geometric.com/whl/torch-2.4.0+cu121.html\n",
            "Requirement already satisfied: torch-scatter in /usr/local/lib/python3.10/dist-packages (2.1.2+pt24cu121)\n",
            "Looking in links: https://pytorch-geometric.com/whl/torch-2.4.0+cu121.html\n",
            "Requirement already satisfied: torch-sparse in /usr/local/lib/python3.10/dist-packages (0.6.18+pt24cu121)\n",
            "Requirement already satisfied: scipy in /usr/local/lib/python3.10/dist-packages (from torch-sparse) (1.13.1)\n",
            "Requirement already satisfied: numpy<2.3,>=1.22.4 in /usr/local/lib/python3.10/dist-packages (from scipy->torch-sparse) (1.26.4)\n",
            "Looking in links: https://pytorch-geometric.com/whl/torch-2.4.0+cu121.html\n",
            "Requirement already satisfied: torch-cluster in /usr/local/lib/python3.10/dist-packages (1.6.3+pt24cu121)\n",
            "Requirement already satisfied: scipy in /usr/local/lib/python3.10/dist-packages (from torch-cluster) (1.13.1)\n",
            "Requirement already satisfied: numpy<2.3,>=1.22.4 in /usr/local/lib/python3.10/dist-packages (from scipy->torch-cluster) (1.26.4)\n",
            "Looking in links: https://pytorch-geometric.com/whl/torch-2.4.0+cu121.html\n",
            "Requirement already satisfied: torch-spline-conv in /usr/local/lib/python3.10/dist-packages (1.2.2+pt24cu121)\n",
            "Requirement already satisfied: torch-geometric in /usr/local/lib/python3.10/dist-packages (2.6.1)\n",
            "Requirement already satisfied: aiohttp in /usr/local/lib/python3.10/dist-packages (from torch-geometric) (3.11.9)\n",
            "Requirement already satisfied: fsspec in /usr/local/lib/python3.10/dist-packages (from torch-geometric) (2024.10.0)\n",
            "Requirement already satisfied: jinja2 in /usr/local/lib/python3.10/dist-packages (from torch-geometric) (3.1.4)\n",
            "Requirement already satisfied: numpy in /usr/local/lib/python3.10/dist-packages (from torch-geometric) (1.26.4)\n",
            "Requirement already satisfied: psutil>=5.8.0 in /usr/local/lib/python3.10/dist-packages (from torch-geometric) (5.9.5)\n",
            "Requirement already satisfied: pyparsing in /usr/local/lib/python3.10/dist-packages (from torch-geometric) (3.2.0)\n",
            "Requirement already satisfied: requests in /usr/local/lib/python3.10/dist-packages (from torch-geometric) (2.32.3)\n",
            "Requirement already satisfied: tqdm in /usr/local/lib/python3.10/dist-packages (from torch-geometric) (4.66.6)\n",
            "Requirement already satisfied: aiohappyeyeballs>=2.3.0 in /usr/local/lib/python3.10/dist-packages (from aiohttp->torch-geometric) (2.4.4)\n",
            "Requirement already satisfied: aiosignal>=1.1.2 in /usr/local/lib/python3.10/dist-packages (from aiohttp->torch-geometric) (1.3.1)\n",
            "Requirement already satisfied: async-timeout<6.0,>=4.0 in /usr/local/lib/python3.10/dist-packages (from aiohttp->torch-geometric) (4.0.3)\n",
            "Requirement already satisfied: attrs>=17.3.0 in /usr/local/lib/python3.10/dist-packages (from aiohttp->torch-geometric) (24.2.0)\n",
            "Requirement already satisfied: frozenlist>=1.1.1 in /usr/local/lib/python3.10/dist-packages (from aiohttp->torch-geometric) (1.5.0)\n",
            "Requirement already satisfied: multidict<7.0,>=4.5 in /usr/local/lib/python3.10/dist-packages (from aiohttp->torch-geometric) (6.1.0)\n",
            "Requirement already satisfied: propcache>=0.2.0 in /usr/local/lib/python3.10/dist-packages (from aiohttp->torch-geometric) (0.2.1)\n",
            "Requirement already satisfied: yarl<2.0,>=1.17.0 in /usr/local/lib/python3.10/dist-packages (from aiohttp->torch-geometric) (1.18.3)\n",
            "Requirement already satisfied: MarkupSafe>=2.0 in /usr/local/lib/python3.10/dist-packages (from jinja2->torch-geometric) (3.0.2)\n",
            "Requirement already satisfied: charset-normalizer<4,>=2 in /usr/local/lib/python3.10/dist-packages (from requests->torch-geometric) (3.4.0)\n",
            "Requirement already satisfied: idna<4,>=2.5 in /usr/local/lib/python3.10/dist-packages (from requests->torch-geometric) (3.10)\n",
            "Requirement already satisfied: urllib3<3,>=1.21.1 in /usr/local/lib/python3.10/dist-packages (from requests->torch-geometric) (1.26.20)\n",
            "Requirement already satisfied: certifi>=2017.4.17 in /usr/local/lib/python3.10/dist-packages (from requests->torch-geometric) (2024.8.30)\n",
            "Requirement already satisfied: typing-extensions>=4.1.0 in /usr/local/lib/python3.10/dist-packages (from multidict<7.0,>=4.5->aiohttp->torch-geometric) (4.12.2)\n",
            "Requirement already satisfied: torch-geometric-temporal in /usr/local/lib/python3.10/dist-packages (0.54.0)\n",
            "Requirement already satisfied: decorator==4.4.2 in /usr/local/lib/python3.10/dist-packages (from torch-geometric-temporal) (4.4.2)\n",
            "Requirement already satisfied: torch in /usr/local/lib/python3.10/dist-packages (from torch-geometric-temporal) (2.5.1+cu121)\n",
            "Requirement already satisfied: cython in /usr/local/lib/python3.10/dist-packages (from torch-geometric-temporal) (3.0.11)\n",
            "Requirement already satisfied: pandas<=1.3.5 in /usr/local/lib/python3.10/dist-packages (from torch-geometric-temporal) (1.3.5)\n",
            "Requirement already satisfied: torch-sparse in /usr/local/lib/python3.10/dist-packages (from torch-geometric-temporal) (0.6.18+pt24cu121)\n",
            "Requirement already satisfied: torch-scatter in /usr/local/lib/python3.10/dist-packages (from torch-geometric-temporal) (2.1.2+pt24cu121)\n",
            "Requirement already satisfied: torch-geometric in /usr/local/lib/python3.10/dist-packages (from torch-geometric-temporal) (2.6.1)\n",
            "Requirement already satisfied: numpy in /usr/local/lib/python3.10/dist-packages (from torch-geometric-temporal) (1.26.4)\n",
            "Requirement already satisfied: six in /usr/local/lib/python3.10/dist-packages (from torch-geometric-temporal) (1.16.0)\n",
            "Requirement already satisfied: networkx in /usr/local/lib/python3.10/dist-packages (from torch-geometric-temporal) (3.4.2)\n",
            "Requirement already satisfied: python-dateutil>=2.7.3 in /usr/local/lib/python3.10/dist-packages (from pandas<=1.3.5->torch-geometric-temporal) (2.8.2)\n",
            "Requirement already satisfied: pytz>=2017.3 in /usr/local/lib/python3.10/dist-packages (from pandas<=1.3.5->torch-geometric-temporal) (2024.2)\n",
            "Requirement already satisfied: filelock in /usr/local/lib/python3.10/dist-packages (from torch->torch-geometric-temporal) (3.16.1)\n",
            "Requirement already satisfied: typing-extensions>=4.8.0 in /usr/local/lib/python3.10/dist-packages (from torch->torch-geometric-temporal) (4.12.2)\n",
            "Requirement already satisfied: jinja2 in /usr/local/lib/python3.10/dist-packages (from torch->torch-geometric-temporal) (3.1.4)\n",
            "Requirement already satisfied: fsspec in /usr/local/lib/python3.10/dist-packages (from torch->torch-geometric-temporal) (2024.10.0)\n",
            "Requirement already satisfied: sympy==1.13.1 in /usr/local/lib/python3.10/dist-packages (from torch->torch-geometric-temporal) (1.13.1)\n",
            "Requirement already satisfied: mpmath<1.4,>=1.1.0 in /usr/local/lib/python3.10/dist-packages (from sympy==1.13.1->torch->torch-geometric-temporal) (1.3.0)\n",
            "Requirement already satisfied: aiohttp in /usr/local/lib/python3.10/dist-packages (from torch-geometric->torch-geometric-temporal) (3.11.9)\n",
            "Requirement already satisfied: psutil>=5.8.0 in /usr/local/lib/python3.10/dist-packages (from torch-geometric->torch-geometric-temporal) (5.9.5)\n",
            "Requirement already satisfied: pyparsing in /usr/local/lib/python3.10/dist-packages (from torch-geometric->torch-geometric-temporal) (3.2.0)\n",
            "Requirement already satisfied: requests in /usr/local/lib/python3.10/dist-packages (from torch-geometric->torch-geometric-temporal) (2.32.3)\n",
            "Requirement already satisfied: tqdm in /usr/local/lib/python3.10/dist-packages (from torch-geometric->torch-geometric-temporal) (4.66.6)\n",
            "Requirement already satisfied: scipy in /usr/local/lib/python3.10/dist-packages (from torch-sparse->torch-geometric-temporal) (1.13.1)\n",
            "Requirement already satisfied: aiohappyeyeballs>=2.3.0 in /usr/local/lib/python3.10/dist-packages (from aiohttp->torch-geometric->torch-geometric-temporal) (2.4.4)\n",
            "Requirement already satisfied: aiosignal>=1.1.2 in /usr/local/lib/python3.10/dist-packages (from aiohttp->torch-geometric->torch-geometric-temporal) (1.3.1)\n",
            "Requirement already satisfied: async-timeout<6.0,>=4.0 in /usr/local/lib/python3.10/dist-packages (from aiohttp->torch-geometric->torch-geometric-temporal) (4.0.3)\n",
            "Requirement already satisfied: attrs>=17.3.0 in /usr/local/lib/python3.10/dist-packages (from aiohttp->torch-geometric->torch-geometric-temporal) (24.2.0)\n",
            "Requirement already satisfied: frozenlist>=1.1.1 in /usr/local/lib/python3.10/dist-packages (from aiohttp->torch-geometric->torch-geometric-temporal) (1.5.0)\n",
            "Requirement already satisfied: multidict<7.0,>=4.5 in /usr/local/lib/python3.10/dist-packages (from aiohttp->torch-geometric->torch-geometric-temporal) (6.1.0)\n",
            "Requirement already satisfied: propcache>=0.2.0 in /usr/local/lib/python3.10/dist-packages (from aiohttp->torch-geometric->torch-geometric-temporal) (0.2.1)\n",
            "Requirement already satisfied: yarl<2.0,>=1.17.0 in /usr/local/lib/python3.10/dist-packages (from aiohttp->torch-geometric->torch-geometric-temporal) (1.18.3)\n",
            "Requirement already satisfied: MarkupSafe>=2.0 in /usr/local/lib/python3.10/dist-packages (from jinja2->torch->torch-geometric-temporal) (3.0.2)\n",
            "Requirement already satisfied: charset-normalizer<4,>=2 in /usr/local/lib/python3.10/dist-packages (from requests->torch-geometric->torch-geometric-temporal) (3.4.0)\n",
            "Requirement already satisfied: idna<4,>=2.5 in /usr/local/lib/python3.10/dist-packages (from requests->torch-geometric->torch-geometric-temporal) (3.10)\n",
            "Requirement already satisfied: urllib3<3,>=1.21.1 in /usr/local/lib/python3.10/dist-packages (from requests->torch-geometric->torch-geometric-temporal) (1.26.20)\n",
            "Requirement already satisfied: certifi>=2017.4.17 in /usr/local/lib/python3.10/dist-packages (from requests->torch-geometric->torch-geometric-temporal) (2024.8.30)\n",
            "Requirement already satisfied: yfinance in /usr/local/lib/python3.10/dist-packages (0.2.50)\n",
            "Requirement already satisfied: pandas>=1.3.0 in /usr/local/lib/python3.10/dist-packages (from yfinance) (1.3.5)\n",
            "Requirement already satisfied: numpy>=1.16.5 in /usr/local/lib/python3.10/dist-packages (from yfinance) (1.26.4)\n",
            "Requirement already satisfied: requests>=2.31 in /usr/local/lib/python3.10/dist-packages (from yfinance) (2.32.3)\n",
            "Requirement already satisfied: multitasking>=0.0.7 in /usr/local/lib/python3.10/dist-packages (from yfinance) (0.0.11)\n",
            "Requirement already satisfied: lxml>=4.9.1 in /usr/local/lib/python3.10/dist-packages (from yfinance) (5.3.0)\n",
            "Requirement already satisfied: platformdirs>=2.0.0 in /usr/local/lib/python3.10/dist-packages (from yfinance) (4.3.6)\n",
            "Requirement already satisfied: pytz>=2022.5 in /usr/local/lib/python3.10/dist-packages (from yfinance) (2024.2)\n",
            "Requirement already satisfied: frozendict>=2.3.4 in /usr/local/lib/python3.10/dist-packages (from yfinance) (2.4.6)\n",
            "Requirement already satisfied: peewee>=3.16.2 in /usr/local/lib/python3.10/dist-packages (from yfinance) (3.17.8)\n",
            "Requirement already satisfied: beautifulsoup4>=4.11.1 in /usr/local/lib/python3.10/dist-packages (from yfinance) (4.12.3)\n",
            "Requirement already satisfied: html5lib>=1.1 in /usr/local/lib/python3.10/dist-packages (from yfinance) (1.1)\n",
            "Requirement already satisfied: soupsieve>1.2 in /usr/local/lib/python3.10/dist-packages (from beautifulsoup4>=4.11.1->yfinance) (2.6)\n",
            "Requirement already satisfied: six>=1.9 in /usr/local/lib/python3.10/dist-packages (from html5lib>=1.1->yfinance) (1.16.0)\n",
            "Requirement already satisfied: webencodings in /usr/local/lib/python3.10/dist-packages (from html5lib>=1.1->yfinance) (0.5.1)\n",
            "Requirement already satisfied: python-dateutil>=2.7.3 in /usr/local/lib/python3.10/dist-packages (from pandas>=1.3.0->yfinance) (2.8.2)\n",
            "Requirement already satisfied: charset-normalizer<4,>=2 in /usr/local/lib/python3.10/dist-packages (from requests>=2.31->yfinance) (3.4.0)\n",
            "Requirement already satisfied: idna<4,>=2.5 in /usr/local/lib/python3.10/dist-packages (from requests>=2.31->yfinance) (3.10)\n",
            "Requirement already satisfied: urllib3<3,>=1.21.1 in /usr/local/lib/python3.10/dist-packages (from requests>=2.31->yfinance) (1.26.20)\n",
            "Requirement already satisfied: certifi>=2017.4.17 in /usr/local/lib/python3.10/dist-packages (from requests>=2.31->yfinance) (2024.8.30)\n",
            "Requirement already satisfied: requests_html in /usr/local/lib/python3.10/dist-packages (0.10.0)\n",
            "Requirement already satisfied: requests in /usr/local/lib/python3.10/dist-packages (from requests_html) (2.32.3)\n",
            "Requirement already satisfied: pyquery in /usr/local/lib/python3.10/dist-packages (from requests_html) (2.0.1)\n",
            "Requirement already satisfied: fake-useragent in /usr/local/lib/python3.10/dist-packages (from requests_html) (2.0.0)\n",
            "Requirement already satisfied: parse in /usr/local/lib/python3.10/dist-packages (from requests_html) (1.20.2)\n",
            "Requirement already satisfied: bs4 in /usr/local/lib/python3.10/dist-packages (from requests_html) (0.0.2)\n",
            "Requirement already satisfied: w3lib in /usr/local/lib/python3.10/dist-packages (from requests_html) (2.2.1)\n",
            "Requirement already satisfied: pyppeteer>=0.0.14 in /usr/local/lib/python3.10/dist-packages (from requests_html) (2.0.0)\n",
            "Requirement already satisfied: appdirs<2.0.0,>=1.4.3 in /usr/local/lib/python3.10/dist-packages (from pyppeteer>=0.0.14->requests_html) (1.4.4)\n",
            "Requirement already satisfied: certifi>=2023 in /usr/local/lib/python3.10/dist-packages (from pyppeteer>=0.0.14->requests_html) (2024.8.30)\n",
            "Requirement already satisfied: importlib-metadata>=1.4 in /usr/local/lib/python3.10/dist-packages (from pyppeteer>=0.0.14->requests_html) (8.5.0)\n",
            "Requirement already satisfied: pyee<12.0.0,>=11.0.0 in /usr/local/lib/python3.10/dist-packages (from pyppeteer>=0.0.14->requests_html) (11.1.1)\n",
            "Requirement already satisfied: tqdm<5.0.0,>=4.42.1 in /usr/local/lib/python3.10/dist-packages (from pyppeteer>=0.0.14->requests_html) (4.66.6)\n",
            "Requirement already satisfied: urllib3<2.0.0,>=1.25.8 in /usr/local/lib/python3.10/dist-packages (from pyppeteer>=0.0.14->requests_html) (1.26.20)\n",
            "Requirement already satisfied: websockets<11.0,>=10.0 in /usr/local/lib/python3.10/dist-packages (from pyppeteer>=0.0.14->requests_html) (10.4)\n",
            "Requirement already satisfied: beautifulsoup4 in /usr/local/lib/python3.10/dist-packages (from bs4->requests_html) (4.12.3)\n",
            "Requirement already satisfied: lxml>=2.1 in /usr/local/lib/python3.10/dist-packages (from pyquery->requests_html) (5.3.0)\n",
            "Requirement already satisfied: cssselect>=1.2.0 in /usr/local/lib/python3.10/dist-packages (from pyquery->requests_html) (1.2.0)\n",
            "Requirement already satisfied: charset-normalizer<4,>=2 in /usr/local/lib/python3.10/dist-packages (from requests->requests_html) (3.4.0)\n",
            "Requirement already satisfied: idna<4,>=2.5 in /usr/local/lib/python3.10/dist-packages (from requests->requests_html) (3.10)\n",
            "Requirement already satisfied: zipp>=3.20 in /usr/local/lib/python3.10/dist-packages (from importlib-metadata>=1.4->pyppeteer>=0.0.14->requests_html) (3.21.0)\n",
            "Requirement already satisfied: typing-extensions in /usr/local/lib/python3.10/dist-packages (from pyee<12.0.0,>=11.0.0->pyppeteer>=0.0.14->requests_html) (4.12.2)\n",
            "Requirement already satisfied: soupsieve>1.2 in /usr/local/lib/python3.10/dist-packages (from beautifulsoup4->bs4->requests_html) (2.6)\n",
            "Requirement already satisfied: yahoo_fin in /usr/local/lib/python3.10/dist-packages (0.8.9.1)\n",
            "Requirement already satisfied: requests-html in /usr/local/lib/python3.10/dist-packages (from yahoo_fin) (0.10.0)\n",
            "Requirement already satisfied: feedparser in /usr/local/lib/python3.10/dist-packages (from yahoo_fin) (6.0.11)\n",
            "Requirement already satisfied: requests in /usr/local/lib/python3.10/dist-packages (from yahoo_fin) (2.32.3)\n",
            "Requirement already satisfied: pandas in /usr/local/lib/python3.10/dist-packages (from yahoo_fin) (1.3.5)\n",
            "Requirement already satisfied: sgmllib3k in /usr/local/lib/python3.10/dist-packages (from feedparser->yahoo_fin) (1.0.0)\n",
            "Requirement already satisfied: python-dateutil>=2.7.3 in /usr/local/lib/python3.10/dist-packages (from pandas->yahoo_fin) (2.8.2)\n",
            "Requirement already satisfied: pytz>=2017.3 in /usr/local/lib/python3.10/dist-packages (from pandas->yahoo_fin) (2024.2)\n",
            "Requirement already satisfied: numpy>=1.21.0 in /usr/local/lib/python3.10/dist-packages (from pandas->yahoo_fin) (1.26.4)\n",
            "Requirement already satisfied: charset-normalizer<4,>=2 in /usr/local/lib/python3.10/dist-packages (from requests->yahoo_fin) (3.4.0)\n",
            "Requirement already satisfied: idna<4,>=2.5 in /usr/local/lib/python3.10/dist-packages (from requests->yahoo_fin) (3.10)\n",
            "Requirement already satisfied: urllib3<3,>=1.21.1 in /usr/local/lib/python3.10/dist-packages (from requests->yahoo_fin) (1.26.20)\n",
            "Requirement already satisfied: certifi>=2017.4.17 in /usr/local/lib/python3.10/dist-packages (from requests->yahoo_fin) (2024.8.30)\n",
            "Requirement already satisfied: pyquery in /usr/local/lib/python3.10/dist-packages (from requests-html->yahoo_fin) (2.0.1)\n",
            "Requirement already satisfied: fake-useragent in /usr/local/lib/python3.10/dist-packages (from requests-html->yahoo_fin) (2.0.0)\n",
            "Requirement already satisfied: parse in /usr/local/lib/python3.10/dist-packages (from requests-html->yahoo_fin) (1.20.2)\n",
            "Requirement already satisfied: bs4 in /usr/local/lib/python3.10/dist-packages (from requests-html->yahoo_fin) (0.0.2)\n",
            "Requirement already satisfied: w3lib in /usr/local/lib/python3.10/dist-packages (from requests-html->yahoo_fin) (2.2.1)\n",
            "Requirement already satisfied: pyppeteer>=0.0.14 in /usr/local/lib/python3.10/dist-packages (from requests-html->yahoo_fin) (2.0.0)\n",
            "Requirement already satisfied: appdirs<2.0.0,>=1.4.3 in /usr/local/lib/python3.10/dist-packages (from pyppeteer>=0.0.14->requests-html->yahoo_fin) (1.4.4)\n",
            "Requirement already satisfied: importlib-metadata>=1.4 in /usr/local/lib/python3.10/dist-packages (from pyppeteer>=0.0.14->requests-html->yahoo_fin) (8.5.0)\n",
            "Requirement already satisfied: pyee<12.0.0,>=11.0.0 in /usr/local/lib/python3.10/dist-packages (from pyppeteer>=0.0.14->requests-html->yahoo_fin) (11.1.1)\n",
            "Requirement already satisfied: tqdm<5.0.0,>=4.42.1 in /usr/local/lib/python3.10/dist-packages (from pyppeteer>=0.0.14->requests-html->yahoo_fin) (4.66.6)\n",
            "Requirement already satisfied: websockets<11.0,>=10.0 in /usr/local/lib/python3.10/dist-packages (from pyppeteer>=0.0.14->requests-html->yahoo_fin) (10.4)\n",
            "Requirement already satisfied: six>=1.5 in /usr/local/lib/python3.10/dist-packages (from python-dateutil>=2.7.3->pandas->yahoo_fin) (1.16.0)\n",
            "Requirement already satisfied: beautifulsoup4 in /usr/local/lib/python3.10/dist-packages (from bs4->requests-html->yahoo_fin) (4.12.3)\n",
            "Requirement already satisfied: lxml>=2.1 in /usr/local/lib/python3.10/dist-packages (from pyquery->requests-html->yahoo_fin) (5.3.0)\n",
            "Requirement already satisfied: cssselect>=1.2.0 in /usr/local/lib/python3.10/dist-packages (from pyquery->requests-html->yahoo_fin) (1.2.0)\n",
            "Requirement already satisfied: zipp>=3.20 in /usr/local/lib/python3.10/dist-packages (from importlib-metadata>=1.4->pyppeteer>=0.0.14->requests-html->yahoo_fin) (3.21.0)\n",
            "Requirement already satisfied: typing-extensions in /usr/local/lib/python3.10/dist-packages (from pyee<12.0.0,>=11.0.0->pyppeteer>=0.0.14->requests-html->yahoo_fin) (4.12.2)\n",
            "Requirement already satisfied: soupsieve>1.2 in /usr/local/lib/python3.10/dist-packages (from beautifulsoup4->bs4->requests-html->yahoo_fin) (2.6)\n"
          ]
        }
      ]
    },
    {
      "cell_type": "code",
      "source": [
        "!pip install --upgrade torch-geometric torch-scatter torch-sparse torch-cluster torch-spline-conv -f https://data.pyg.org/whl/torch-2.4.0+cu121.html"
      ],
      "metadata": {
        "colab": {
          "base_uri": "https://localhost:8080/"
        },
        "id": "OuKkfWtzpVsy",
        "outputId": "61ed68d7-2be0-4d11-bcb8-844c796a03f6"
      },
      "execution_count": null,
      "outputs": [
        {
          "output_type": "stream",
          "name": "stdout",
          "text": [
            "Looking in links: https://data.pyg.org/whl/torch-2.4.0+cu121.html\n",
            "Requirement already satisfied: torch-geometric in /usr/local/lib/python3.10/dist-packages (2.6.1)\n",
            "Requirement already satisfied: torch-scatter in /usr/local/lib/python3.10/dist-packages (2.1.2+pt24cu121)\n",
            "Requirement already satisfied: torch-sparse in /usr/local/lib/python3.10/dist-packages (0.6.18+pt24cu121)\n",
            "Requirement already satisfied: torch-cluster in /usr/local/lib/python3.10/dist-packages (1.6.3+pt24cu121)\n",
            "Requirement already satisfied: torch-spline-conv in /usr/local/lib/python3.10/dist-packages (1.2.2+pt24cu121)\n",
            "Requirement already satisfied: aiohttp in /usr/local/lib/python3.10/dist-packages (from torch-geometric) (3.11.9)\n",
            "Requirement already satisfied: fsspec in /usr/local/lib/python3.10/dist-packages (from torch-geometric) (2024.10.0)\n",
            "Requirement already satisfied: jinja2 in /usr/local/lib/python3.10/dist-packages (from torch-geometric) (3.1.4)\n",
            "Requirement already satisfied: numpy in /usr/local/lib/python3.10/dist-packages (from torch-geometric) (1.26.4)\n",
            "Requirement already satisfied: psutil>=5.8.0 in /usr/local/lib/python3.10/dist-packages (from torch-geometric) (5.9.5)\n",
            "Requirement already satisfied: pyparsing in /usr/local/lib/python3.10/dist-packages (from torch-geometric) (3.2.0)\n",
            "Requirement already satisfied: requests in /usr/local/lib/python3.10/dist-packages (from torch-geometric) (2.32.3)\n",
            "Requirement already satisfied: tqdm in /usr/local/lib/python3.10/dist-packages (from torch-geometric) (4.66.6)\n",
            "Requirement already satisfied: scipy in /usr/local/lib/python3.10/dist-packages (from torch-sparse) (1.13.1)\n",
            "Requirement already satisfied: aiohappyeyeballs>=2.3.0 in /usr/local/lib/python3.10/dist-packages (from aiohttp->torch-geometric) (2.4.4)\n",
            "Requirement already satisfied: aiosignal>=1.1.2 in /usr/local/lib/python3.10/dist-packages (from aiohttp->torch-geometric) (1.3.1)\n",
            "Requirement already satisfied: async-timeout<6.0,>=4.0 in /usr/local/lib/python3.10/dist-packages (from aiohttp->torch-geometric) (4.0.3)\n",
            "Requirement already satisfied: attrs>=17.3.0 in /usr/local/lib/python3.10/dist-packages (from aiohttp->torch-geometric) (24.2.0)\n",
            "Requirement already satisfied: frozenlist>=1.1.1 in /usr/local/lib/python3.10/dist-packages (from aiohttp->torch-geometric) (1.5.0)\n",
            "Requirement already satisfied: multidict<7.0,>=4.5 in /usr/local/lib/python3.10/dist-packages (from aiohttp->torch-geometric) (6.1.0)\n",
            "Requirement already satisfied: propcache>=0.2.0 in /usr/local/lib/python3.10/dist-packages (from aiohttp->torch-geometric) (0.2.1)\n",
            "Requirement already satisfied: yarl<2.0,>=1.17.0 in /usr/local/lib/python3.10/dist-packages (from aiohttp->torch-geometric) (1.18.3)\n",
            "Requirement already satisfied: MarkupSafe>=2.0 in /usr/local/lib/python3.10/dist-packages (from jinja2->torch-geometric) (3.0.2)\n",
            "Requirement already satisfied: charset-normalizer<4,>=2 in /usr/local/lib/python3.10/dist-packages (from requests->torch-geometric) (3.4.0)\n",
            "Requirement already satisfied: idna<4,>=2.5 in /usr/local/lib/python3.10/dist-packages (from requests->torch-geometric) (3.10)\n",
            "Requirement already satisfied: urllib3<3,>=1.21.1 in /usr/local/lib/python3.10/dist-packages (from requests->torch-geometric) (1.26.20)\n",
            "Requirement already satisfied: certifi>=2017.4.17 in /usr/local/lib/python3.10/dist-packages (from requests->torch-geometric) (2024.8.30)\n",
            "Requirement already satisfied: typing-extensions>=4.1.0 in /usr/local/lib/python3.10/dist-packages (from multidict<7.0,>=4.5->aiohttp->torch-geometric) (4.12.2)\n"
          ]
        }
      ]
    },
    {
      "cell_type": "markdown",
      "source": [
        "# Load Data"
      ],
      "metadata": {
        "id": "u1hDBuMeSk1_"
      }
    },
    {
      "cell_type": "code",
      "source": [
        "import torch\n",
        "import torch.nn as nn\n",
        "import torch.nn.functional as F\n",
        "import yfinance as yf\n",
        "import pandas as pd\n",
        "import numpy as np\n",
        "import json\n",
        "import requests\n",
        "from tqdm import tqdm\n",
        "from torch_geometric.nn import GATConv\n",
        "from torch_geometric_temporal.nn.recurrent import TGCN\n",
        "from yahoo_fin.stock_info import *\n",
        "\n",
        "# This will error out, open the TGCN file and replace 'from torch_geometric.utils.to_dense_adj import to_dense_adj' with\n",
        "#                                                     'from torch_geometric.utils import to_dense_adj'\n",
        "device = torch.device('cuda' if torch.cuda.is_available() else 'cpu')"
      ],
      "metadata": {
        "id": "uy0yRjMOo8Cu"
      },
      "execution_count": null,
      "outputs": []
    },
    {
      "cell_type": "code",
      "source": [
        "# Read and print the stock tickers that make up S&P500\n",
        "tickers = pd.read_html('https://en.wikipedia.org/wiki/List_of_S%26P_500_companies')[0].Symbol.to_list()\n",
        "tickers = [ticker.replace(\".\", \"-\") for ticker in tickers]"
      ],
      "metadata": {
        "id": "7e9uEPn4Sojb"
      },
      "execution_count": null,
      "outputs": []
    },
    {
      "cell_type": "code",
      "source": [
        "idx2tkr = tickers\n",
        "tkr2idx = dict([(ticker, i) for i, ticker in enumerate(tickers)])"
      ],
      "metadata": {
        "id": "tCI224MhTvSm"
      },
      "execution_count": null,
      "outputs": []
    },
    {
      "cell_type": "code",
      "source": [
        "for ticker in tqdm(tickers):\n",
        "  url = f\"https://www.dolthub.com/api/v1alpha1/post-no-preference/earnings/master?q=SELECT+*%0AFROM+%60eps_history%60%0AWHERE+%60act_symbol%60+%3D+%22{ticker}%22%0AORDER+BY+%60act_symbol%60+ASC%2C+%60period_end_date%60+ASC%0ALIMIT+1000%3B%0A\"\n",
        "  response = requests.get(url)\n",
        "  data = response.json()\n",
        "  with open(f\"{ticker}.json\", \"w\") as f:\n",
        "    json.dump(data, f)"
      ],
      "metadata": {
        "colab": {
          "base_uri": "https://localhost:8080/"
        },
        "id": "_2XsXzdTjsw-",
        "outputId": "20f2ea10-1bb3-41ec-a43b-fe78dc38064a"
      },
      "execution_count": null,
      "outputs": [
        {
          "output_type": "stream",
          "name": "stderr",
          "text": [
            "100%|██████████| 503/503 [02:24<00:00,  3.48it/s]\n"
          ]
        }
      ]
    },
    {
      "cell_type": "code",
      "source": [
        "earnings_hist = {}"
      ],
      "metadata": {
        "id": "t8wOreejnY7X"
      },
      "execution_count": null,
      "outputs": []
    },
    {
      "cell_type": "code",
      "source": [
        "for ticker in tqdm(tickers):\n",
        "  with open(f\"{ticker}.json\", \"r\") as f:\n",
        "    data = json.load(f)\n",
        "  if data['query_execution_status'] == \"Success\":\n",
        "    earnings_hist[ticker] = data['rows']\n",
        "  else:\n",
        "    print(f\"Error with {ticker}\")"
      ],
      "metadata": {
        "colab": {
          "base_uri": "https://localhost:8080/"
        },
        "id": "qB_qjgh0nGrz",
        "outputId": "2a9de2c2-3220-4615-f2a9-bd818b4021f9"
      },
      "execution_count": null,
      "outputs": [
        {
          "output_type": "stream",
          "name": "stderr",
          "text": [
            "100%|██████████| 503/503 [00:00<00:00, 12350.99it/s]\n"
          ]
        }
      ]
    },
    {
      "cell_type": "code",
      "source": [
        "historicals = []\n",
        "for ticker in tqdm(tickers):\n",
        "  data = yf.Ticker(ticker).history(period=\"5y\").Close.rename(ticker)\n",
        "  historicals.append(data)"
      ],
      "metadata": {
        "id": "KL2dT3AfUWVu",
        "colab": {
          "base_uri": "https://localhost:8080/"
        },
        "outputId": "8142e838-2aa3-4dd3-b6bd-cd317608a5e5"
      },
      "execution_count": null,
      "outputs": [
        {
          "output_type": "stream",
          "name": "stderr",
          "text": [
            "  5%|▍         | 24/503 [00:05<01:41,  4.71it/s]ERROR:yfinance:AMTM: Period '5y' is invalid, must be one of ['1d', '5d', '1mo', '3mo', 'ytd', 'max']\n",
            " 42%|████▏     | 210/503 [00:49<01:08,  4.29it/s]ERROR:yfinance:GEHC: Period '5y' is invalid, must be one of ['1d', '5d', '1mo', '3mo', '6mo', '1y', '2y', 'ytd', 'max']\n",
            " 42%|████▏     | 211/503 [00:49<01:01,  4.73it/s]ERROR:yfinance:GEV: Period '5y' is invalid, must be one of ['1d', '5d', '1mo', '3mo', '6mo', '1y', 'ytd', 'max']\n",
            " 54%|█████▍    | 271/503 [01:03<01:02,  3.70it/s]ERROR:yfinance:KVUE: Period '5y' is invalid, must be one of ['1d', '5d', '1mo', '3mo', '6mo', '1y', '2y', 'ytd', 'max']\n",
            " 83%|████████▎ | 418/503 [01:37<00:19,  4.47it/s]ERROR:yfinance:SW: Period '5y' is invalid, must be one of ['1d', '5d', '1mo', '3mo', '6mo', 'ytd', 'max']\n",
            " 83%|████████▎ | 420/503 [01:37<00:17,  4.87it/s]ERROR:yfinance:SOLV: Period '5y' is invalid, must be one of ['1d', '5d', '1mo', '3mo', '6mo', '1y', 'ytd', 'max']\n",
            " 93%|█████████▎| 469/503 [01:49<00:07,  4.27it/s]ERROR:yfinance:VLTO: Period '5y' is invalid, must be one of ['1d', '5d', '1mo', '3mo', '6mo', '1y', '2y', 'ytd', 'max']\n",
            "100%|██████████| 503/503 [01:56<00:00,  4.30it/s]\n"
          ]
        }
      ]
    },
    {
      "cell_type": "code",
      "source": [
        "for i, hist in enumerate(historicals):\n",
        "  if hist.empty:\n",
        "    historicals[i] = yf.Ticker(idx2tkr[i]).history(period=\"max\").Close.reindex(historicals[0].index).rename(tickers[i])"
      ],
      "metadata": {
        "id": "fZDEf6a8bsdY"
      },
      "execution_count": null,
      "outputs": []
    },
    {
      "cell_type": "code",
      "source": [
        "from matplotlib import pyplot as plt\n",
        "import seaborn as sns\n",
        "\n",
        "price_data = pd.concat(historicals, axis=1)\n",
        "correlation = price_data.pct_change().corr()\n",
        "\n",
        "indices = ['AAPL', 'NVDA', 'AMD', 'MSFT', 'MMM', 'BRK-B', 'GOOG', 'CVS', 'WMT', 'COST']\n",
        "sns.heatmap(correlation[indices].T[indices], annot=True, cmap='viridis')"
      ],
      "metadata": {
        "colab": {
          "base_uri": "https://localhost:8080/",
          "height": 482
        },
        "id": "sqn9y8TWlnuu",
        "outputId": "c78c4fd3-10be-4fc6-c396-49c0ebb9da7a"
      },
      "execution_count": null,
      "outputs": [
        {
          "output_type": "execute_result",
          "data": {
            "text/plain": [
              "<Axes: >"
            ]
          },
          "metadata": {},
          "execution_count": 14
        },
        {
          "output_type": "display_data",
          "data": {
            "text/plain": [
              "<Figure size 640x480 with 2 Axes>"
            ],
            "image/png": "[encoded data removed]"
          },
          "metadata": {}
        }
      ]
    },
    {
      "cell_type": "markdown",
      "source": [
        "# Preprocess Data"
      ],
      "metadata": {
        "id": "k5T5VFqKMoXt"
      }
    },
    {
      "cell_type": "code",
      "source": [
        "from tqdm import tqdm\n",
        "from sklearn.preprocessing import StandardScaler"
      ],
      "metadata": {
        "id": "gb-sBlNsAiG8"
      },
      "execution_count": null,
      "outputs": []
    },
    {
      "cell_type": "code",
      "source": [
        "def create_correlation_graph(price_data, corr_min, window_size=20):\n",
        "    \"\"\"\n",
        "    Create rolling correlation-based edge weights\n",
        "    \"\"\"\n",
        "    returns = price_data.pct_change()\n",
        "\n",
        "    # Calculate rolling correlation\n",
        "    corr_matrices = []\n",
        "    for i in range(len(returns) - window_size + 1):\n",
        "        window = returns.iloc[i:i+window_size]\n",
        "        corr = window.corr()\n",
        "        corr_matrices.append(corr)\n",
        "\n",
        "    # Create edges and weights\n",
        "    edge_index = []\n",
        "    edge_weights = []\n",
        "\n",
        "    for corr_matrix in tqdm(corr_matrices):\n",
        "        edges = np.argwhere(corr_matrix.to_numpy() > CORR_MIN)\n",
        "\n",
        "        weights = corr_matrix.to_numpy()[edges[:, 0], edges[:, 1]]\n",
        "        edge_index.append(torch.tensor(edges).t().contiguous())\n",
        "        edge_weights.append(torch.tensor(weights))\n",
        "\n",
        "    return edge_index, edge_weights\n",
        "\n",
        "def prepare_stock_features(symbols, price_data, pos_bound, neg_bound, scaler=None, window_size=20):\n",
        "    \"\"\"Prepare stock features with technical indicators\"\"\"\n",
        "    exceeds_all = []\n",
        "    misses_all = []\n",
        "    # Calculate features\n",
        "    features = []\n",
        "    for symbol in symbols:\n",
        "        df = pd.DataFrame()\n",
        "        # Price momentum\n",
        "        df['returns'] = price_data[symbol].pct_change()\n",
        "        df['momentum'] = price_data[symbol].pct_change(window_size)\n",
        "        # Volatility\n",
        "        df['volatility'] = df['returns'].rolling(window=window_size).std()\n",
        "        # Moving averages\n",
        "        df['ma20'] = price_data[symbol].rolling(window=20).mean()\n",
        "        df['ma50'] = price_data[symbol].rolling(window=50).mean()\n",
        "\n",
        "        df['tern'] = 0\n",
        "        df.loc[df['returns'] > pos_bound * df['volatility'], 'tern'] = 1\n",
        "        df.loc[-df['returns'] > neg_bound * df['volatility'], 'tern'] = -1\n",
        "        exceeds_all.append(len(df[df.tern == 1]) / len(df))\n",
        "        misses_all.append(len(df[df.tern == -1]) / len(df))\n",
        "        features.append(df)\n",
        "\n",
        "    print(\"Exceeds Pricing: \", sum(exceeds_all) / len(exceeds_all))\n",
        "    print(\"Misses Pricing: \", sum(misses_all) / len(misses_all))\n",
        "\n",
        "    # Combine features\n",
        "    combined_features = np.stack([f.fillna(0).values for f in features], axis=1)\n",
        "    if scaler is None:\n",
        "      # Scale features\n",
        "      scaler = StandardScaler()\n",
        "      scaled_features = scaler.fit_transform(combined_features.reshape(-1, combined_features.shape[-1]))\n",
        "      scaled_features = scaled_features.reshape(combined_features.shape)\n",
        "    else:\n",
        "      scaled_features = scaler.transform(combined_features.reshape(-1, combined_features.shape[-1]))\n",
        "      scaled_features = scaled_features.reshape(combined_features.shape)\n",
        "    scaled_features[:, :, -1] = combined_features[:, :, -1]\n",
        "    return torch.tensor(scaled_features), scaler"
      ],
      "metadata": {
        "id": "zbdOW1kFMp73"
      },
      "execution_count": null,
      "outputs": []
    },
    {
      "cell_type": "code",
      "source": [
        "# Split data into test and train\n",
        "split_date = price_data.index[-126]  # Approximately 126 business days for last 6 months\n",
        "price_data_train = price_data[price_data.index < split_date]\n",
        "price_data_test = price_data[price_data.index >= split_date]"
      ],
      "metadata": {
        "id": "o534ahq4M1Ms"
      },
      "execution_count": null,
      "outputs": []
    },
    {
      "cell_type": "code",
      "source": [
        "CORR_MIN = 0.25\n",
        "\n",
        "P_POSITIVE_BOUND = 0.25\n",
        "P_NEGATIVE_BOUND = 0.7\n",
        "\n",
        "N_POSITIVE_BOUND = 0.9\n",
        "N_NEGATIVE_BOUND = 0.2"
      ],
      "metadata": {
        "id": "TYqcXGotM4vn"
      },
      "execution_count": null,
      "outputs": []
    },
    {
      "cell_type": "code",
      "source": [
        "print(\"Preparing positive stock features...\")\n",
        "features_train_pos, scaler_pos = prepare_stock_features(tickers, price_data_train, P_POSITIVE_BOUND, P_NEGATIVE_BOUND)\n",
        "features_train_pos = features_train_pos.to(torch.float32)\n",
        "\n",
        "print(\"Preparing negative stock features...\")\n",
        "features_train_neg, scaler_neg = prepare_stock_features(tickers, price_data_train, N_POSITIVE_BOUND, N_NEGATIVE_BOUND)\n",
        "features_train_neg = features_train_neg.to(torch.float32)"
      ],
      "metadata": {
        "colab": {
          "base_uri": "https://localhost:8080/"
        },
        "id": "dMmIVykBM8zl",
        "outputId": "d496b45e-03a3-4d70-8729-d0de88235f9a"
      },
      "execution_count": null,
      "outputs": [
        {
          "output_type": "stream",
          "name": "stdout",
          "text": [
            "Preparing positive stock features...\n",
            "Exceeds Pricing:  0.3968247005171092\n",
            "Misses Pricing:  0.2074069264904832\n",
            "Preparing negative stock features...\n",
            "Exceeds Pricing:  0.1762189440585087\n",
            "Misses Pricing:  0.38056216978797963\n"
          ]
        }
      ]
    },
    {
      "cell_type": "code",
      "source": [
        "print(\"Creating correlation matrices...\")\n",
        "edge_index_train, edge_weights_train = create_correlation_graph(price_data_train, CORR_MIN)\n",
        "\n",
        "edge_index_train = [ei.to(torch.long) for ei in edge_index_train]\n",
        "edge_weights_train = [ew.to(torch.float32) for ew in edge_weights_train]"
      ],
      "metadata": {
        "colab": {
          "base_uri": "https://localhost:8080/"
        },
        "id": "bcK4LVa2RpYp",
        "outputId": "978f1971-7113-4d9b-8bf3-11db5058048a"
      },
      "execution_count": null,
      "outputs": [
        {
          "output_type": "stream",
          "name": "stdout",
          "text": [
            "Creating correlation matrices...\n"
          ]
        },
        {
          "output_type": "stream",
          "name": "stderr",
          "text": [
            "100%|██████████| 1114/1114 [00:08<00:00, 125.23it/s]\n"
          ]
        }
      ]
    },
    {
      "cell_type": "code",
      "source": [
        "features_test_pos, _ = prepare_stock_features(tickers, price_data_test, P_POSITIVE_BOUND, P_NEGATIVE_BOUND, scaler=scaler_pos)\n",
        "features_test_neg, _ = prepare_stock_features(tickers, price_data_test, N_POSITIVE_BOUND, N_NEGATIVE_BOUND, scaler=scaler_neg)\n",
        "edge_index_test, edge_weights_test = create_correlation_graph(price_data_test, CORR_MIN)"
      ],
      "metadata": {
        "id": "eNYlVGe7UprB",
        "colab": {
          "base_uri": "https://localhost:8080/"
        },
        "outputId": "474e4454-7800-462f-c535-363ad4081d2a"
      },
      "execution_count": null,
      "outputs": [
        {
          "output_type": "stream",
          "name": "stdout",
          "text": [
            "Exceeds Pricing:  0.35648016661933185\n",
            "Misses Pricing:  0.15570071633689936\n",
            "Exceeds Pricing:  0.152182145223895\n",
            "Misses Pricing:  0.30236044053141464\n"
          ]
        },
        {
          "output_type": "stream",
          "name": "stderr",
          "text": [
            "100%|██████████| 107/107 [00:00<00:00, 211.18it/s]\n"
          ]
        }
      ]
    },
    {
      "cell_type": "markdown",
      "source": [
        "# Training\n",
        "This contains the non-recurrent training loop"
      ],
      "metadata": {
        "id": "aiGVaE-tSs1r"
      }
    },
    {
      "cell_type": "code",
      "source": [
        "class TemporalStockPredictor(nn.Module):\n",
        "    def __init__(self, node_features, hidden_dim, num_heads=4):\n",
        "        super(TemporalStockPredictor, self).__init__()\n",
        "\n",
        "        # Temporal GCN layer\n",
        "        self.tgcn = TGCN(in_channels=node_features,\n",
        "                         out_channels=hidden_dim)\n",
        "\n",
        "        # Graph attention layer for capturing dynamic correlations\n",
        "        self.gat = GATConv(\n",
        "            in_channels=hidden_dim,\n",
        "            out_channels=hidden_dim,\n",
        "            heads=num_heads,\n",
        "            concat=True,\n",
        "            dropout=0.2\n",
        "        )\n",
        "\n",
        "        # Prediction layers\n",
        "        self.fc1 = nn.Linear(hidden_dim * num_heads, hidden_dim)\n",
        "        self.fc2 = nn.Linear(hidden_dim, 3)\n",
        "\n",
        "    def forward(self, x, edge_index, edge_weight):\n",
        "        # Process temporal features\n",
        "        h = self.tgcn(x, edge_index)\n",
        "\n",
        "        # Apply graph attention with edge weights\n",
        "        h = self.gat(h, edge_index, edge_weight)\n",
        "\n",
        "        # Make predictions\n",
        "        h = F.relu(self.fc1(h))\n",
        "        pred = self.fc2(h)\n",
        "\n",
        "        return pred"
      ],
      "metadata": {
        "id": "94g9SQS3-XQ0"
      },
      "execution_count": null,
      "outputs": []
    },
    {
      "cell_type": "code",
      "source": [
        "def train_price_predictor(symbols, price_data, features, edge_index, edge_weights, hidden_dim=64, epochs=100, num_heads = 4):\n",
        "\n",
        "    # Model parameters\n",
        "    device = torch.device('cuda' if torch.cuda.is_available() else 'cpu')\n",
        "    model = TemporalStockPredictor(\n",
        "        node_features=features.shape[-1],\n",
        "        hidden_dim=hidden_dim,\n",
        "        num_heads=num_heads\n",
        "    ).to(device)\n",
        "\n",
        "    optimizer = torch.optim.Adam(model.parameters(), lr=0.001)\n",
        "    criterion = nn.CrossEntropyLoss() # Switch to cross entropy\n",
        "\n",
        "    # Training loop\n",
        "    model.train()\n",
        "    for epoch in range(epochs):\n",
        "        total_loss = 0\n",
        "\n",
        "        for t in tqdm(range(len(edge_index)-1)):\n",
        "            optimizer.zero_grad()\n",
        "\n",
        "            # Get batch data\n",
        "            x = features[t+19].to(device)\n",
        "            edge_idx = edge_index[t].to(device)\n",
        "            edge_w = edge_weights[t].to(device)\n",
        "\n",
        "            # Forward pass\n",
        "            y_pred = model(x, edge_idx, edge_w).squeeze()\n",
        "\n",
        "            # Calculate loss\n",
        "            y_true = features[t+20, :, 5].to(device).long() + 1 # Next day's ternary prediction\n",
        "            y_one_hot = torch.nn.functional.one_hot(y_true, 3).to(torch.float64)\n",
        "            loss = criterion(y_pred, y_one_hot)\n",
        "\n",
        "            # Backward pass\n",
        "            loss.backward()\n",
        "            optimizer.step()\n",
        "\n",
        "            total_loss += loss.item()\n",
        "\n",
        "        print(f'Epoch {epoch+1}/{epochs}, Loss: {total_loss/len(edge_index):.6f}')\n",
        "\n",
        "    return model"
      ],
      "metadata": {
        "id": "3tC_h_GVlyIg"
      },
      "execution_count": null,
      "outputs": []
    },
    {
      "cell_type": "code",
      "source": [
        "# Training model that predicts positive examples better\n",
        "model_pos = train_price_predictor(\n",
        "    symbols=tickers,\n",
        "    price_data=price_data,\n",
        "    features=features_train_pos,\n",
        "    edge_index=edge_index_train,\n",
        "    edge_weights=edge_weights_train,\n",
        "    hidden_dim=64,\n",
        "    epochs=30,\n",
        "    num_heads=4\n",
        ")"
      ],
      "metadata": {
        "colab": {
          "base_uri": "https://localhost:8080/"
        },
        "id": "jmhVsSD28rNg",
        "outputId": "54712cd8-69d8-4d23-f725-597265935a4c"
      },
      "execution_count": null,
      "outputs": [
        {
          "output_type": "stream",
          "name": "stderr",
          "text": [
            "100%|██████████| 1113/1113 [00:24<00:00, 45.54it/s]\n"
          ]
        },
        {
          "output_type": "stream",
          "name": "stdout",
          "text": [
            "Epoch 1/30, Loss: 1.053926\n"
          ]
        },
        {
          "output_type": "stream",
          "name": "stderr",
          "text": [
            "100%|██████████| 1113/1113 [00:24<00:00, 44.67it/s]\n"
          ]
        },
        {
          "output_type": "stream",
          "name": "stdout",
          "text": [
            "Epoch 2/30, Loss: 1.061376\n"
          ]
        },
        {
          "output_type": "stream",
          "name": "stderr",
          "text": [
            "100%|██████████| 1113/1113 [00:24<00:00, 46.04it/s]\n"
          ]
        },
        {
          "output_type": "stream",
          "name": "stdout",
          "text": [
            "Epoch 3/30, Loss: 1.060724\n"
          ]
        },
        {
          "output_type": "stream",
          "name": "stderr",
          "text": [
            "100%|██████████| 1113/1113 [00:25<00:00, 44.50it/s]\n"
          ]
        },
        {
          "output_type": "stream",
          "name": "stdout",
          "text": [
            "Epoch 4/30, Loss: 1.050514\n"
          ]
        },
        {
          "output_type": "stream",
          "name": "stderr",
          "text": [
            "100%|██████████| 1113/1113 [00:24<00:00, 46.18it/s]\n"
          ]
        },
        {
          "output_type": "stream",
          "name": "stdout",
          "text": [
            "Epoch 5/30, Loss: 1.049890\n"
          ]
        },
        {
          "output_type": "stream",
          "name": "stderr",
          "text": [
            "100%|██████████| 1113/1113 [00:24<00:00, 45.86it/s]\n"
          ]
        },
        {
          "output_type": "stream",
          "name": "stdout",
          "text": [
            "Epoch 6/30, Loss: 1.048153\n"
          ]
        },
        {
          "output_type": "stream",
          "name": "stderr",
          "text": [
            "100%|██████████| 1113/1113 [00:25<00:00, 44.42it/s]\n"
          ]
        },
        {
          "output_type": "stream",
          "name": "stdout",
          "text": [
            "Epoch 7/30, Loss: 1.044723\n"
          ]
        },
        {
          "output_type": "stream",
          "name": "stderr",
          "text": [
            "100%|██████████| 1113/1113 [00:24<00:00, 45.67it/s]\n"
          ]
        },
        {
          "output_type": "stream",
          "name": "stdout",
          "text": [
            "Epoch 8/30, Loss: 1.044894\n"
          ]
        },
        {
          "output_type": "stream",
          "name": "stderr",
          "text": [
            "100%|██████████| 1113/1113 [00:24<00:00, 45.84it/s]\n"
          ]
        },
        {
          "output_type": "stream",
          "name": "stdout",
          "text": [
            "Epoch 9/30, Loss: 1.043817\n"
          ]
        },
        {
          "output_type": "stream",
          "name": "stderr",
          "text": [
            "100%|██████████| 1113/1113 [00:23<00:00, 46.48it/s]\n"
          ]
        },
        {
          "output_type": "stream",
          "name": "stdout",
          "text": [
            "Epoch 10/30, Loss: 1.044045\n"
          ]
        },
        {
          "output_type": "stream",
          "name": "stderr",
          "text": [
            "100%|██████████| 1113/1113 [00:23<00:00, 46.39it/s]\n"
          ]
        },
        {
          "output_type": "stream",
          "name": "stdout",
          "text": [
            "Epoch 11/30, Loss: 1.043403\n"
          ]
        },
        {
          "output_type": "stream",
          "name": "stderr",
          "text": [
            "100%|██████████| 1113/1113 [00:24<00:00, 46.09it/s]\n"
          ]
        },
        {
          "output_type": "stream",
          "name": "stdout",
          "text": [
            "Epoch 12/30, Loss: 1.042875\n"
          ]
        },
        {
          "output_type": "stream",
          "name": "stderr",
          "text": [
            "100%|██████████| 1113/1113 [00:24<00:00, 45.87it/s]\n"
          ]
        },
        {
          "output_type": "stream",
          "name": "stdout",
          "text": [
            "Epoch 13/30, Loss: 1.043690\n"
          ]
        },
        {
          "output_type": "stream",
          "name": "stderr",
          "text": [
            "100%|██████████| 1113/1113 [00:24<00:00, 45.71it/s]\n"
          ]
        },
        {
          "output_type": "stream",
          "name": "stdout",
          "text": [
            "Epoch 14/30, Loss: 1.043065\n"
          ]
        },
        {
          "output_type": "stream",
          "name": "stderr",
          "text": [
            "100%|██████████| 1113/1113 [00:23<00:00, 46.62it/s]\n"
          ]
        },
        {
          "output_type": "stream",
          "name": "stdout",
          "text": [
            "Epoch 15/30, Loss: 1.043527\n"
          ]
        },
        {
          "output_type": "stream",
          "name": "stderr",
          "text": [
            "100%|██████████| 1113/1113 [00:24<00:00, 46.26it/s]\n"
          ]
        },
        {
          "output_type": "stream",
          "name": "stdout",
          "text": [
            "Epoch 16/30, Loss: 1.042589\n"
          ]
        },
        {
          "output_type": "stream",
          "name": "stderr",
          "text": [
            "100%|██████████| 1113/1113 [00:24<00:00, 46.21it/s]\n"
          ]
        },
        {
          "output_type": "stream",
          "name": "stdout",
          "text": [
            "Epoch 17/30, Loss: 1.041607\n"
          ]
        },
        {
          "output_type": "stream",
          "name": "stderr",
          "text": [
            "100%|██████████| 1113/1113 [00:24<00:00, 45.88it/s]\n"
          ]
        },
        {
          "output_type": "stream",
          "name": "stdout",
          "text": [
            "Epoch 18/30, Loss: 1.040633\n"
          ]
        },
        {
          "output_type": "stream",
          "name": "stderr",
          "text": [
            "100%|██████████| 1113/1113 [00:24<00:00, 45.85it/s]\n"
          ]
        },
        {
          "output_type": "stream",
          "name": "stdout",
          "text": [
            "Epoch 19/30, Loss: 1.041191\n"
          ]
        },
        {
          "output_type": "stream",
          "name": "stderr",
          "text": [
            "100%|██████████| 1113/1113 [00:23<00:00, 46.40it/s]\n"
          ]
        },
        {
          "output_type": "stream",
          "name": "stdout",
          "text": [
            "Epoch 20/30, Loss: 1.040889\n"
          ]
        },
        {
          "output_type": "stream",
          "name": "stderr",
          "text": [
            "100%|██████████| 1113/1113 [00:24<00:00, 46.31it/s]\n"
          ]
        },
        {
          "output_type": "stream",
          "name": "stdout",
          "text": [
            "Epoch 21/30, Loss: 1.040017\n"
          ]
        },
        {
          "output_type": "stream",
          "name": "stderr",
          "text": [
            "100%|██████████| 1113/1113 [00:24<00:00, 45.92it/s]\n"
          ]
        },
        {
          "output_type": "stream",
          "name": "stdout",
          "text": [
            "Epoch 22/30, Loss: 1.039559\n"
          ]
        },
        {
          "output_type": "stream",
          "name": "stderr",
          "text": [
            "100%|██████████| 1113/1113 [00:24<00:00, 45.80it/s]\n"
          ]
        },
        {
          "output_type": "stream",
          "name": "stdout",
          "text": [
            "Epoch 23/30, Loss: 1.039718\n"
          ]
        },
        {
          "output_type": "stream",
          "name": "stderr",
          "text": [
            "100%|██████████| 1113/1113 [00:24<00:00, 45.79it/s]\n"
          ]
        },
        {
          "output_type": "stream",
          "name": "stdout",
          "text": [
            "Epoch 24/30, Loss: 1.039404\n"
          ]
        },
        {
          "output_type": "stream",
          "name": "stderr",
          "text": [
            "100%|██████████| 1113/1113 [00:24<00:00, 46.25it/s]\n"
          ]
        },
        {
          "output_type": "stream",
          "name": "stdout",
          "text": [
            "Epoch 25/30, Loss: 1.039866\n"
          ]
        },
        {
          "output_type": "stream",
          "name": "stderr",
          "text": [
            "100%|██████████| 1113/1113 [00:23<00:00, 46.48it/s]\n"
          ]
        },
        {
          "output_type": "stream",
          "name": "stdout",
          "text": [
            "Epoch 26/30, Loss: 1.039335\n"
          ]
        },
        {
          "output_type": "stream",
          "name": "stderr",
          "text": [
            "100%|██████████| 1113/1113 [00:24<00:00, 46.36it/s]\n"
          ]
        },
        {
          "output_type": "stream",
          "name": "stdout",
          "text": [
            "Epoch 27/30, Loss: 1.038706\n"
          ]
        },
        {
          "output_type": "stream",
          "name": "stderr",
          "text": [
            "100%|██████████| 1113/1113 [00:24<00:00, 46.00it/s]\n"
          ]
        },
        {
          "output_type": "stream",
          "name": "stdout",
          "text": [
            "Epoch 28/30, Loss: 1.038558\n"
          ]
        },
        {
          "output_type": "stream",
          "name": "stderr",
          "text": [
            "100%|██████████| 1113/1113 [00:24<00:00, 45.88it/s]\n"
          ]
        },
        {
          "output_type": "stream",
          "name": "stdout",
          "text": [
            "Epoch 29/30, Loss: 1.038744\n"
          ]
        },
        {
          "output_type": "stream",
          "name": "stderr",
          "text": [
            "100%|██████████| 1113/1113 [00:24<00:00, 46.28it/s]"
          ]
        },
        {
          "output_type": "stream",
          "name": "stdout",
          "text": [
            "Epoch 30/30, Loss: 1.038173\n"
          ]
        },
        {
          "output_type": "stream",
          "name": "stderr",
          "text": [
            "\n"
          ]
        }
      ]
    },
    {
      "cell_type": "code",
      "source": [
        "# Training model that predicts negative examples better\n",
        "model_neg = train_price_predictor(\n",
        "    symbols=tickers,\n",
        "    price_data=price_data,\n",
        "    features=features_train_neg,\n",
        "    edge_index=edge_index_train,\n",
        "    edge_weights=edge_weights_train,\n",
        "    hidden_dim=64,\n",
        "    epochs=30,\n",
        "    num_heads=6\n",
        ")"
      ],
      "metadata": {
        "colab": {
          "base_uri": "https://localhost:8080/"
        },
        "id": "cuCg8sIFf_vl",
        "outputId": "8cf34bea-d308-494c-e1b0-1dbfb24b6819"
      },
      "execution_count": null,
      "outputs": [
        {
          "output_type": "stream",
          "name": "stderr",
          "text": [
            "100%|██████████| 1113/1113 [00:31<00:00, 35.85it/s]\n"
          ]
        },
        {
          "output_type": "stream",
          "name": "stdout",
          "text": [
            "Epoch 1/30, Loss: 1.034741\n"
          ]
        },
        {
          "output_type": "stream",
          "name": "stderr",
          "text": [
            "100%|██████████| 1113/1113 [00:31<00:00, 35.81it/s]\n"
          ]
        },
        {
          "output_type": "stream",
          "name": "stdout",
          "text": [
            "Epoch 2/30, Loss: 1.033158\n"
          ]
        },
        {
          "output_type": "stream",
          "name": "stderr",
          "text": [
            "100%|██████████| 1113/1113 [00:30<00:00, 36.74it/s]\n"
          ]
        },
        {
          "output_type": "stream",
          "name": "stdout",
          "text": [
            "Epoch 3/30, Loss: 1.036313\n"
          ]
        },
        {
          "output_type": "stream",
          "name": "stderr",
          "text": [
            "100%|██████████| 1113/1113 [00:30<00:00, 36.68it/s]\n"
          ]
        },
        {
          "output_type": "stream",
          "name": "stdout",
          "text": [
            "Epoch 4/30, Loss: 1.027655\n"
          ]
        },
        {
          "output_type": "stream",
          "name": "stderr",
          "text": [
            "100%|██████████| 1113/1113 [00:30<00:00, 36.65it/s]\n"
          ]
        },
        {
          "output_type": "stream",
          "name": "stdout",
          "text": [
            "Epoch 5/30, Loss: 1.026492\n"
          ]
        },
        {
          "output_type": "stream",
          "name": "stderr",
          "text": [
            "100%|██████████| 1113/1113 [00:30<00:00, 36.87it/s]\n"
          ]
        },
        {
          "output_type": "stream",
          "name": "stdout",
          "text": [
            "Epoch 6/30, Loss: 1.025328\n"
          ]
        },
        {
          "output_type": "stream",
          "name": "stderr",
          "text": [
            "100%|██████████| 1113/1113 [00:30<00:00, 36.44it/s]\n"
          ]
        },
        {
          "output_type": "stream",
          "name": "stdout",
          "text": [
            "Epoch 7/30, Loss: 1.023780\n"
          ]
        },
        {
          "output_type": "stream",
          "name": "stderr",
          "text": [
            "100%|██████████| 1113/1113 [00:30<00:00, 36.77it/s]\n"
          ]
        },
        {
          "output_type": "stream",
          "name": "stdout",
          "text": [
            "Epoch 8/30, Loss: 1.023024\n"
          ]
        },
        {
          "output_type": "stream",
          "name": "stderr",
          "text": [
            "100%|██████████| 1113/1113 [00:30<00:00, 37.00it/s]\n"
          ]
        },
        {
          "output_type": "stream",
          "name": "stdout",
          "text": [
            "Epoch 9/30, Loss: 1.022938\n"
          ]
        },
        {
          "output_type": "stream",
          "name": "stderr",
          "text": [
            "100%|██████████| 1113/1113 [00:30<00:00, 36.82it/s]\n"
          ]
        },
        {
          "output_type": "stream",
          "name": "stdout",
          "text": [
            "Epoch 10/30, Loss: 1.022132\n"
          ]
        },
        {
          "output_type": "stream",
          "name": "stderr",
          "text": [
            "100%|██████████| 1113/1113 [00:30<00:00, 36.57it/s]\n"
          ]
        },
        {
          "output_type": "stream",
          "name": "stdout",
          "text": [
            "Epoch 11/30, Loss: 1.021861\n"
          ]
        },
        {
          "output_type": "stream",
          "name": "stderr",
          "text": [
            "100%|██████████| 1113/1113 [00:30<00:00, 36.90it/s]\n"
          ]
        },
        {
          "output_type": "stream",
          "name": "stdout",
          "text": [
            "Epoch 12/30, Loss: 1.022333\n"
          ]
        },
        {
          "output_type": "stream",
          "name": "stderr",
          "text": [
            "100%|██████████| 1113/1113 [00:30<00:00, 36.96it/s]\n"
          ]
        },
        {
          "output_type": "stream",
          "name": "stdout",
          "text": [
            "Epoch 13/30, Loss: 1.024069\n"
          ]
        },
        {
          "output_type": "stream",
          "name": "stderr",
          "text": [
            "100%|██████████| 1113/1113 [00:30<00:00, 36.79it/s]\n"
          ]
        },
        {
          "output_type": "stream",
          "name": "stdout",
          "text": [
            "Epoch 14/30, Loss: 1.021841\n"
          ]
        },
        {
          "output_type": "stream",
          "name": "stderr",
          "text": [
            "100%|██████████| 1113/1113 [00:30<00:00, 36.61it/s]\n"
          ]
        },
        {
          "output_type": "stream",
          "name": "stdout",
          "text": [
            "Epoch 15/30, Loss: 1.020738\n"
          ]
        },
        {
          "output_type": "stream",
          "name": "stderr",
          "text": [
            "100%|██████████| 1113/1113 [00:30<00:00, 36.92it/s]\n"
          ]
        },
        {
          "output_type": "stream",
          "name": "stdout",
          "text": [
            "Epoch 16/30, Loss: 1.022740\n"
          ]
        },
        {
          "output_type": "stream",
          "name": "stderr",
          "text": [
            "100%|██████████| 1113/1113 [00:30<00:00, 36.91it/s]\n"
          ]
        },
        {
          "output_type": "stream",
          "name": "stdout",
          "text": [
            "Epoch 17/30, Loss: 1.021361\n"
          ]
        },
        {
          "output_type": "stream",
          "name": "stderr",
          "text": [
            "100%|██████████| 1113/1113 [00:30<00:00, 36.59it/s]\n"
          ]
        },
        {
          "output_type": "stream",
          "name": "stdout",
          "text": [
            "Epoch 18/30, Loss: 1.020376\n"
          ]
        },
        {
          "output_type": "stream",
          "name": "stderr",
          "text": [
            "100%|██████████| 1113/1113 [00:30<00:00, 36.54it/s]\n"
          ]
        },
        {
          "output_type": "stream",
          "name": "stdout",
          "text": [
            "Epoch 19/30, Loss: 1.020178\n"
          ]
        },
        {
          "output_type": "stream",
          "name": "stderr",
          "text": [
            "100%|██████████| 1113/1113 [00:30<00:00, 36.63it/s]\n"
          ]
        },
        {
          "output_type": "stream",
          "name": "stdout",
          "text": [
            "Epoch 20/30, Loss: 1.020608\n"
          ]
        },
        {
          "output_type": "stream",
          "name": "stderr",
          "text": [
            "100%|██████████| 1113/1113 [00:30<00:00, 36.93it/s]\n"
          ]
        },
        {
          "output_type": "stream",
          "name": "stdout",
          "text": [
            "Epoch 21/30, Loss: 1.019868\n"
          ]
        },
        {
          "output_type": "stream",
          "name": "stderr",
          "text": [
            "100%|██████████| 1113/1113 [00:30<00:00, 36.80it/s]\n"
          ]
        },
        {
          "output_type": "stream",
          "name": "stdout",
          "text": [
            "Epoch 22/30, Loss: 1.019696\n"
          ]
        },
        {
          "output_type": "stream",
          "name": "stderr",
          "text": [
            "100%|██████████| 1113/1113 [00:30<00:00, 36.70it/s]\n"
          ]
        },
        {
          "output_type": "stream",
          "name": "stdout",
          "text": [
            "Epoch 23/30, Loss: 1.019132\n"
          ]
        },
        {
          "output_type": "stream",
          "name": "stderr",
          "text": [
            "100%|██████████| 1113/1113 [00:30<00:00, 36.78it/s]\n"
          ]
        },
        {
          "output_type": "stream",
          "name": "stdout",
          "text": [
            "Epoch 24/30, Loss: 1.018884\n"
          ]
        },
        {
          "output_type": "stream",
          "name": "stderr",
          "text": [
            "100%|██████████| 1113/1113 [00:30<00:00, 36.60it/s]\n"
          ]
        },
        {
          "output_type": "stream",
          "name": "stdout",
          "text": [
            "Epoch 25/30, Loss: 1.019106\n"
          ]
        },
        {
          "output_type": "stream",
          "name": "stderr",
          "text": [
            "100%|██████████| 1113/1113 [00:30<00:00, 36.63it/s]\n"
          ]
        },
        {
          "output_type": "stream",
          "name": "stdout",
          "text": [
            "Epoch 26/30, Loss: 1.019909\n"
          ]
        },
        {
          "output_type": "stream",
          "name": "stderr",
          "text": [
            "100%|██████████| 1113/1113 [00:30<00:00, 36.80it/s]\n"
          ]
        },
        {
          "output_type": "stream",
          "name": "stdout",
          "text": [
            "Epoch 27/30, Loss: 1.018347\n"
          ]
        },
        {
          "output_type": "stream",
          "name": "stderr",
          "text": [
            "100%|██████████| 1113/1113 [00:30<00:00, 36.51it/s]\n"
          ]
        },
        {
          "output_type": "stream",
          "name": "stdout",
          "text": [
            "Epoch 28/30, Loss: 1.019382\n"
          ]
        },
        {
          "output_type": "stream",
          "name": "stderr",
          "text": [
            "100%|██████████| 1113/1113 [00:30<00:00, 36.09it/s]\n"
          ]
        },
        {
          "output_type": "stream",
          "name": "stdout",
          "text": [
            "Epoch 29/30, Loss: 1.018733\n"
          ]
        },
        {
          "output_type": "stream",
          "name": "stderr",
          "text": [
            "100%|██████████| 1113/1113 [00:30<00:00, 36.25it/s]"
          ]
        },
        {
          "output_type": "stream",
          "name": "stdout",
          "text": [
            "Epoch 30/30, Loss: 1.019188\n"
          ]
        },
        {
          "output_type": "stream",
          "name": "stderr",
          "text": [
            "\n"
          ]
        }
      ]
    },
    {
      "cell_type": "markdown",
      "source": [
        "# Testing\n",
        "This largely contains failed ensembling attempts"
      ],
      "metadata": {
        "id": "Lz9Uga3eS1Dp"
      }
    },
    {
      "cell_type": "code",
      "source": [
        "with torch.no_grad():\n",
        "\n",
        "    model_pos.eval()\n",
        "\n",
        "    features_test = features_test_pos.to(torch.float32)\n",
        "    edge_index_test = [ei.to(torch.long) for ei in edge_index_test]\n",
        "    edge_weights_test = [ew.to(torch.float32) for ew in edge_weights_test]\n",
        "\n",
        "    predictions_pos = []\n",
        "\n",
        "    # Generate predictions for each time step\n",
        "    for t in range(len(edge_index_test)):\n",
        "        pred = model_pos(\n",
        "            features_test[t+19].to(device),\n",
        "            edge_index_test[t].to(device),\n",
        "            edge_weights_test[t].to(device)\n",
        "        )\n",
        "        predictions_pos.append(pred.cpu().numpy())"
      ],
      "metadata": {
        "id": "of7dKsju-z-b"
      },
      "execution_count": null,
      "outputs": []
    },
    {
      "cell_type": "code",
      "source": [
        "with torch.no_grad():\n",
        "\n",
        "    model_neg.eval()\n",
        "\n",
        "    features_test = features_test_neg.to(torch.float32)\n",
        "    edge_index_test = [ei.to(torch.long) for ei in edge_index_test]\n",
        "    edge_weights_test = [ew.to(torch.float32) for ew in edge_weights_test]\n",
        "\n",
        "    predictions_neg = []\n",
        "\n",
        "    # Generate predictions for each time step\n",
        "    for t in range(len(edge_index_test)):\n",
        "        pred = model_neg(\n",
        "            features_test[t+19].to(device),\n",
        "            edge_index_test[t].to(device),\n",
        "            edge_weights_test[t].to(device)\n",
        "        )\n",
        "        predictions_neg.append(pred.cpu().numpy())"
      ],
      "metadata": {
        "id": "PmToChWdjAH7"
      },
      "execution_count": null,
      "outputs": []
    },
    {
      "cell_type": "code",
      "source": [
        "predictions_pos = np.stack(predictions_pos)\n",
        "tern_predictions_pos = np.argmax(predictions_pos, axis = 2) - 1\n",
        "\n",
        "predictions_neg = np.stack(predictions_neg)\n",
        "tern_predictions_neg = np.argmax(predictions_neg, axis = 2) - 1"
      ],
      "metadata": {
        "id": "q7UwYOc_pfQQ"
      },
      "execution_count": null,
      "outputs": []
    },
    {
      "cell_type": "code",
      "source": [
        "prices_pct_change = features_test[:, :, 0]\n",
        "tern_prices = features_test[:, :, 5]"
      ],
      "metadata": {
        "id": "PjA8DUGWpeyh"
      },
      "execution_count": null,
      "outputs": []
    },
    {
      "cell_type": "code",
      "source": [
        "counts_pos = np.zeros((3, 3), dtype = np.int32)\n",
        "bin_counts_pos = np.zeros((2, 2), dtype = np.int32)\n",
        "approx_equal_counts_pos = np.zeros((1, 2), dtype = np.int32)\n",
        "\n",
        "counts_neg = np.zeros((3, 3), dtype = np.int32)\n",
        "bin_counts_neg = np.zeros((2, 2), dtype = np.int32)\n",
        "approx_equal_counts_neg = np.zeros((1, 2), dtype = np.int32)\n",
        "\n",
        "(t, c) = tern_predictions_pos.shape\n",
        "\n",
        "for i in range(t):\n",
        "  for j in range(c):\n",
        "    counts_pos[int(tern_predictions_pos[i, j] + 1), int(tern_prices[i, j].item() + 1)] += 1\n",
        "    if tern_predictions_pos[i, j] == -1: # We predict it goes down\n",
        "      if prices_pct_change[i, j] <= 0: # It actually goes down\n",
        "        bin_counts_pos[0, 0] += 1\n",
        "      else:\n",
        "        bin_counts_pos[0, 1] += 1\n",
        "    elif tern_predictions_pos[i, j] == 1: # We predict it goes up\n",
        "      if prices_pct_change[i, j] > 0: # It actually goes up\n",
        "        bin_counts_pos[1, 1] += 1\n",
        "      else:\n",
        "        bin_counts_pos[1, 0] += 1\n",
        "    else: # We predict it stays the same\n",
        "      if prices_pct_change[i, j] > 0: # It goes up\n",
        "        approx_equal_counts_pos[0, 1] += 1\n",
        "      else:\n",
        "        approx_equal_counts_pos[0, 0] += 1\n",
        "\n",
        "print(\"Pos Binary Counts: \", bin_counts_pos)\n",
        "print(\"Pos Equal Counts: \", approx_equal_counts_pos)\n",
        "print(\"Pos Counts: \", counts_pos)\n",
        "\n",
        "for i in range(t):\n",
        "  for j in range(c):\n",
        "    counts_neg[int(tern_predictions_neg[i, j] + 1), int(tern_prices[i, j].item() + 1)] += 1\n",
        "    if tern_predictions_neg[i, j] == -1: # We predict it goes down\n",
        "      if prices_pct_change[i, j] <= 0: # It actually goes down\n",
        "        bin_counts_neg[0, 0] += 1\n",
        "      else:\n",
        "        bin_counts_neg[0, 1] += 1\n",
        "    elif tern_predictions_neg[i, j] == 1: # We predict it goes up\n",
        "      if prices_pct_change[i, j] > 0: # It actually goes up\n",
        "        bin_counts_neg[1, 1] += 1\n",
        "      else:\n",
        "        bin_counts_neg[1, 0] += 1\n",
        "    else: # We predict it stays the same\n",
        "      if prices_pct_change[i, j] > 0: # It goes up\n",
        "        approx_equal_counts_neg[0, 1] += 1\n",
        "      else:\n",
        "        approx_equal_counts_neg[0, 0] += 1\n",
        "\n",
        "print(\"Neg Binary Counts: \", bin_counts_neg)\n",
        "print(\"Neg Equal Counts: \", approx_equal_counts_neg)\n",
        "print(\"Neg Counts: \", counts_neg)\n",
        "\n",
        "composite_counts = np.zeros((2, 2))\n",
        "\n",
        "for i in range(t):\n",
        "  for j in range(c):\n",
        "    if tern_predictions_neg[i, j] == -1: # Negative predicts it goes down\n",
        "      if tern_predictions_pos[i, j] != 1: # Positive predicts it doesn't go up\n",
        "        if prices_pct_change[i, j] <= 0: # It actually goes down\n",
        "          composite_counts[0, 0] += 1\n",
        "        else:\n",
        "          composite_counts[0, 1] += 1\n",
        "    elif tern_predictions_pos[i, j] == 1: # Positive predicts it goes up\n",
        "      if tern_predictions_neg[i, j] != -1: # Negaive predicts it doesn't go down\n",
        "        if prices_pct_change[i, j] > 0: # It actually goes up\n",
        "          composite_counts[1, 1] += 1\n",
        "        else:\n",
        "          composite_counts[1, 0] += 1\n",
        "\n",
        "print(\"Ensembled Score: \", (composite_counts[0, 0] + composite_counts[1,1]) / np.sum(composite_counts))"
      ],
      "metadata": {
        "colab": {
          "base_uri": "https://localhost:8080/"
        },
        "id": "Z9Hul2nZAbeh",
        "outputId": "d39243ea-95bf-4b37-853c-58fbc1d82920"
      },
      "execution_count": null,
      "outputs": [
        {
          "output_type": "stream",
          "name": "stdout",
          "text": [
            "Pos Binary Counts:  [[    0     0]\n",
            " [16873 17193]]\n",
            "Pos Equal Counts:  [[ 9306 10449]]\n",
            "Pos Counts:  [[    0     0     0]\n",
            " [ 5414 11222  3119]\n",
            " [10228 18427  5411]]\n",
            "Neg Binary Counts:  [[2587 3131]\n",
            " [   0    0]]\n",
            "Neg Equal Counts:  [[23592 24511]]\n",
            "Neg Counts:  [[ 1762  2998   958]\n",
            " [13880 26651  7572]\n",
            " [    0     0     0]]\n",
            "Ensembled Score:  0.49608035276825085\n"
          ]
        }
      ]
    },
    {
      "cell_type": "code",
      "source": [
        "def report(counts, bin_counts):\n",
        "  actual_sums = np.sum(counts, axis = 0)\n",
        "  pred_sums = np.sum(counts, axis = 1)\n",
        "\n",
        "  print(\"Overall Binary Accuracy\", (bin_counts[0, 0] + bin_counts[1, 1]) / np.sum(bin_counts))\n",
        "\n",
        "  print(\"Overall Accuracy\", (counts[0, 0] + counts[1, 1] + counts[2, 2]) / np.sum(counts))\n",
        "\n",
        "  print(\"Overall Negative Accuracy\", (bin_counts[0, 0]) / (bin_counts[0, 0] + bin_counts[0, 1]))\n",
        "  print(\"Overall Positive Accuracy\", (bin_counts[1, 1]) / (bin_counts[1, 0] + bin_counts[1, 1]))\n",
        "\n",
        "  print(\"Negative Recall\", counts[0, 0] / actual_sums[0])\n",
        "  print(\"Approximately Equal Recall\", counts[1, 1] / actual_sums[1])\n",
        "  print(\"Positive Recall\", counts[2, 2] / actual_sums[2])\n",
        "\n",
        "  print(\"Negative Precision\", counts[0, 0] / pred_sums[0])\n",
        "  print(\"Approximately Equal Precision\", counts[1, 1] / pred_sums[1])\n",
        "  print(\"Positive Precision\", counts[2, 2] / pred_sums[2])\n",
        "\n",
        "print(\"Positive Model Results\")\n",
        "report(counts_pos, bin_counts_pos)\n",
        "print(\"Negative Model Results\")\n",
        "report(counts_neg, bin_counts_neg)"
      ],
      "metadata": {
        "colab": {
          "base_uri": "https://localhost:8080/"
        },
        "id": "AqtgFlMDKNFI",
        "outputId": "94a401fe-e214-4325-f8b1-80f1e2b4d24a"
      },
      "execution_count": null,
      "outputs": [
        {
          "output_type": "stream",
          "name": "stdout",
          "text": [
            "Positive Model Results\n",
            "Overall Binary Accuracy 0.5046967651030353\n",
            "Overall Accuracy 0.30904293862990284\n",
            "Overall Negative Accuracy nan\n",
            "Overall Positive Accuracy 0.5046967651030353\n",
            "Negative Recall 0.0\n",
            "Approximately Equal Recall 0.37849505885527335\n",
            "Positive Recall 0.6343493552168816\n",
            "Negative Precision nan\n",
            "Approximately Equal Precision 0.5680587193115667\n",
            "Positive Precision 0.15883872482827452\n",
            "Negative Model Results\n",
            "Overall Binary Accuracy 0.45243091990206363\n",
            "Overall Accuracy 0.5279166124746846\n",
            "Overall Negative Accuracy 0.45243091990206363\n",
            "Overall Positive Accuracy nan\n",
            "Negative Recall 0.1126454417593658\n",
            "Approximately Equal Recall 0.8988836048433336\n",
            "Positive Recall 0.0\n",
            "Negative Precision 0.30814970269324937\n",
            "Approximately Equal Precision 0.5540402885474919\n",
            "Positive Precision nan\n"
          ]
        },
        {
          "output_type": "stream",
          "name": "stderr",
          "text": [
            "<ipython-input-66-039d5c7658ed>:9: RuntimeWarning: invalid value encountered in scalar divide\n",
            "  print(\"Overall Negative Accuracy\", (bin_counts[0, 0]) / (bin_counts[0, 0] + bin_counts[0, 1]))\n",
            "<ipython-input-66-039d5c7658ed>:16: RuntimeWarning: invalid value encountered in scalar divide\n",
            "  print(\"Negative Precision\", counts[0, 0] / pred_sums[0])\n",
            "<ipython-input-66-039d5c7658ed>:10: RuntimeWarning: invalid value encountered in scalar divide\n",
            "  print(\"Overall Positive Accuracy\", (bin_counts[1, 1]) / (bin_counts[1, 0] + bin_counts[1, 1]))\n",
            "<ipython-input-66-039d5c7658ed>:18: RuntimeWarning: invalid value encountered in scalar divide\n",
            "  print(\"Positive Precision\", counts[2, 2] / pred_sums[2])\n"
          ]
        }
      ]
    }
  ]
}